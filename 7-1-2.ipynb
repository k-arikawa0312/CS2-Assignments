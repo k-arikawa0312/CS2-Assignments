{
 "cells": [
  {
   "cell_type": "code",
   "execution_count": 2,
   "metadata": {},
   "outputs": [
    {
     "name": "stdout",
     "output_type": "stream",
     "text": [
      "337 ns ± 28.5 ns per loop (mean ± std. dev. of 7 runs, 1,000,000 loops each)\n",
      "377 ns ± 7.46 ns per loop (mean ± std. dev. of 7 runs, 1,000,000 loops each)\n",
      "480 ns ± 7.63 ns per loop (mean ± std. dev. of 7 runs, 1,000,000 loops each)\n",
      "490 ns ± 16 ns per loop (mean ± std. dev. of 7 runs, 1,000,000 loops each)\n",
      "331 ns ± 14.9 ns per loop (mean ± std. dev. of 7 runs, 1,000,000 loops each)\n",
      "494 ns ± 16.7 ns per loop (mean ± std. dev. of 7 runs, 1,000,000 loops each)\n",
      "709 ns ± 9.66 ns per loop (mean ± std. dev. of 7 runs, 1,000,000 loops each)\n",
      "912 ns ± 34.4 ns per loop (mean ± std. dev. of 7 runs, 1,000,000 loops each)\n",
      "733 ns ± 9.71 ns per loop (mean ± std. dev. of 7 runs, 1,000,000 loops each)\n",
      "829 ns ± 18.6 ns per loop (mean ± std. dev. of 7 runs, 1,000,000 loops each)\n"
     ]
    }
   ],
   "source": [
    "import random\n",
    "\n",
    "class Node:\n",
    "    def __init__(self, key,value):\n",
    "        self.key = key\n",
    "        self.value = value \n",
    "        self.next = None\n",
    "\n",
    "def make_hash_table(n):\n",
    "    table = [None]*n\n",
    "    return table\n",
    "\n",
    "def h(x):   \n",
    "    return hash(x)%1000\n",
    "\n",
    "def put(table,key,value):\n",
    "    hash_value = h(key)\n",
    "    node = table[hash_value]\n",
    "    while node != None:\n",
    "        if node.key == key:\n",
    "            node.value = value\n",
    "            return\n",
    "        node = node.next\n",
    "    \n",
    "    first_node=table[hash_value]\n",
    "    new_node = Node(key,value)\n",
    "    new_node.next = first_node\n",
    "    table[hash_value] = new_node\n",
    "\n",
    "def get(table,key):\n",
    "    hash_value = h(key)\n",
    "    node = table[hash_value]\n",
    "    while node != None:\n",
    "        if node.key == key:\n",
    "            return node.value\n",
    "        node = node.next\n",
    "    return None\n",
    "\n",
    "\n",
    "def make_dict(n):\n",
    "    result = [None]*n\n",
    "    keys=random.sample(range(1000000),n)\n",
    "    values=random.choices(\"abcdefghijklmnopqrstuvwxyz\",k=n)\n",
    "    for key,values in zip(keys,values):\n",
    "        put(result,key,values)\n",
    "    return result\n",
    "\n",
    "for i in range(1,11):\n",
    "    target = make_dict(i*1000)\n",
    "    %timeit get(target,1000000)"
   ]
  }
 ],
 "metadata": {
  "kernelspec": {
   "display_name": "Python 3",
   "language": "python",
   "name": "python3"
  },
  "language_info": {
   "codemirror_mode": {
    "name": "ipython",
    "version": 3
   },
   "file_extension": ".py",
   "mimetype": "text/x-python",
   "name": "python",
   "nbconvert_exporter": "python",
   "pygments_lexer": "ipython3",
   "version": "3.11.9"
  }
 },
 "nbformat": 4,
 "nbformat_minor": 2
}
