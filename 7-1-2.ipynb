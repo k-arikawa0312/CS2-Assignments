{
 "cells": [
  {
   "cell_type": "code",
   "execution_count": 1,
   "metadata": {},
   "outputs": [
    {
     "ename": "IndexError",
     "evalue": "list index out of range",
     "output_type": "error",
     "traceback": [
      "\u001b[1;31m---------------------------------------------------------------------------\u001b[0m",
      "\u001b[1;31mIndexError\u001b[0m                                Traceback (most recent call last)",
      "Cell \u001b[1;32mIn[1], line 49\u001b[0m\n\u001b[0;32m     46\u001b[0m     \u001b[38;5;28;01mreturn\u001b[39;00m result\n\u001b[0;32m     48\u001b[0m \u001b[38;5;28;01mfor\u001b[39;00m i \u001b[38;5;129;01min\u001b[39;00m \u001b[38;5;28mrange\u001b[39m(\u001b[38;5;241m1\u001b[39m,\u001b[38;5;241m11\u001b[39m):\n\u001b[1;32m---> 49\u001b[0m     target \u001b[38;5;241m=\u001b[39m \u001b[43mmake_dict\u001b[49m\u001b[43m(\u001b[49m\u001b[43mi\u001b[49m\u001b[38;5;241;43m*\u001b[39;49m\u001b[38;5;241;43m1000\u001b[39;49m\u001b[43m)\u001b[49m\n\u001b[0;32m     50\u001b[0m     get_ipython()\u001b[38;5;241m.\u001b[39mrun_line_magic(\u001b[38;5;124m'\u001b[39m\u001b[38;5;124mtimeit\u001b[39m\u001b[38;5;124m'\u001b[39m, \u001b[38;5;124m'\u001b[39m\u001b[38;5;124mget(target,1000000)\u001b[39m\u001b[38;5;124m'\u001b[39m)\n",
      "Cell \u001b[1;32mIn[1], line 45\u001b[0m, in \u001b[0;36mmake_dict\u001b[1;34m(n)\u001b[0m\n\u001b[0;32m     43\u001b[0m values\u001b[38;5;241m=\u001b[39mrandom\u001b[38;5;241m.\u001b[39mchoices(\u001b[38;5;124m\"\u001b[39m\u001b[38;5;124mabcdefghijklmnopqrstuvwxyz\u001b[39m\u001b[38;5;124m\"\u001b[39m,k\u001b[38;5;241m=\u001b[39mn)\n\u001b[0;32m     44\u001b[0m \u001b[38;5;28;01mfor\u001b[39;00m key,values \u001b[38;5;129;01min\u001b[39;00m \u001b[38;5;28mzip\u001b[39m(keys,values):\n\u001b[1;32m---> 45\u001b[0m     \u001b[43mput\u001b[49m\u001b[43m(\u001b[49m\u001b[43mresult\u001b[49m\u001b[43m,\u001b[49m\u001b[43mkey\u001b[49m\u001b[43m,\u001b[49m\u001b[43mvalues\u001b[49m\u001b[43m)\u001b[49m\n\u001b[0;32m     46\u001b[0m \u001b[38;5;28;01mreturn\u001b[39;00m result\n",
      "Cell \u001b[1;32mIn[1], line 18\u001b[0m, in \u001b[0;36mput\u001b[1;34m(table, key, value)\u001b[0m\n\u001b[0;32m     16\u001b[0m \u001b[38;5;28;01mdef\u001b[39;00m \u001b[38;5;21mput\u001b[39m(table,key,value):\n\u001b[0;32m     17\u001b[0m     hash_value \u001b[38;5;241m=\u001b[39m h(key)\n\u001b[1;32m---> 18\u001b[0m     node \u001b[38;5;241m=\u001b[39m \u001b[43mtable\u001b[49m\u001b[43m[\u001b[49m\u001b[43mhash_value\u001b[49m\u001b[43m]\u001b[49m\n\u001b[0;32m     19\u001b[0m     \u001b[38;5;28;01mwhile\u001b[39;00m node \u001b[38;5;241m!=\u001b[39m \u001b[38;5;28;01mNone\u001b[39;00m:\n\u001b[0;32m     20\u001b[0m         \u001b[38;5;28;01mif\u001b[39;00m node\u001b[38;5;241m.\u001b[39mkey \u001b[38;5;241m==\u001b[39m key:\n",
      "\u001b[1;31mIndexError\u001b[0m: list index out of range"
     ]
    }
   ],
   "source": [
    "import random\n",
    "\n",
    "class Node:\n",
    "    def __init__(self, key,value):\n",
    "        self.key = key\n",
    "        self.value = value \n",
    "        self.next = None\n",
    "\n",
    "def make_hash_table(n):\n",
    "    table = [None]*n\n",
    "    return table\n",
    "\n",
    "def h(x):   \n",
    "    return hash(x)%10000\n",
    "\n",
    "def put(table,key,value):\n",
    "    hash_value = h(key)\n",
    "    node = table[hash_value]\n",
    "    while node != None:\n",
    "        if node.key == key:\n",
    "            node.value = value\n",
    "            return\n",
    "        node = node.next\n",
    "    \n",
    "    first_node=table[hash_value]\n",
    "    new_node = Node(key,value)\n",
    "    new_node.next = first_node\n",
    "    table[hash_value] = new_node\n",
    "\n",
    "def get(table,key):\n",
    "    hash_value = h(key)\n",
    "    node = table[hash_value]\n",
    "    while node != None:\n",
    "        if node.key == key:\n",
    "            return node.value\n",
    "        node = node.next\n",
    "    return None\n",
    "\n",
    "\n",
    "def make_dict(n):\n",
    "    result = [None]*n\n",
    "    keys=random.sample(range(1000000),n)\n",
    "    values=random.choices(\"abcdefghijklmnopqrstuvwxyz\",k=n)\n",
    "    for key,values in zip(keys,values):\n",
    "        put(result,key,values)\n",
    "    return result\n",
    "\n",
    "for i in range(1,11):\n",
    "    target = make_dict(i*1000)\n",
    "    %timeit get(target,1000000)"
   ]
  }
 ],
 "metadata": {
  "kernelspec": {
   "display_name": "Python 3",
   "language": "python",
   "name": "python3"
  },
  "language_info": {
   "codemirror_mode": {
    "name": "ipython",
    "version": 3
   },
   "file_extension": ".py",
   "mimetype": "text/x-python",
   "name": "python",
   "nbconvert_exporter": "python",
   "pygments_lexer": "ipython3",
   "version": "3.11.9"
  }
 },
 "nbformat": 4,
 "nbformat_minor": 2
}
